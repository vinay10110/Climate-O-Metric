{
 "cells": [
  {
   "cell_type": "code",
   "execution_count": 2,
   "metadata": {},
   "outputs": [],
   "source": [
    "import pandas as pd\n",
    "from sklearn.model_selection import train_test_split\n",
    "from sklearn.linear_model import LinearRegression\n",
    "from sklearn.ensemble import RandomForestRegressor\n",
    "from sklearn.tree import DecisionTreeRegressor\n",
    "from sklearn.ensemble import GradientBoostingRegressor\n",
    "from sklearn.metrics import mean_squared_error, r2_score\n",
    "from xgboost import XGBRegressor"
   ]
  },
  {
   "cell_type": "code",
   "execution_count": 3,
   "metadata": {},
   "outputs": [],
   "source": [
    "df=pd.read_csv('./Country_Pollution_Stats.csv')"
   ]
  },
  {
   "cell_type": "code",
   "execution_count": 4,
   "metadata": {},
   "outputs": [
    {
     "data": {
      "text/html": [
       "<div>\n",
       "<style scoped>\n",
       "    .dataframe tbody tr th:only-of-type {\n",
       "        vertical-align: middle;\n",
       "    }\n",
       "\n",
       "    .dataframe tbody tr th {\n",
       "        vertical-align: top;\n",
       "    }\n",
       "\n",
       "    .dataframe thead th {\n",
       "        text-align: right;\n",
       "    }\n",
       "</style>\n",
       "<table border=\"1\" class=\"dataframe\">\n",
       "  <thead>\n",
       "    <tr style=\"text-align: right;\">\n",
       "      <th></th>\n",
       "      <th>region_id</th>\n",
       "      <th>country_name</th>\n",
       "      <th>gdp</th>\n",
       "      <th>composition_food_organic_waste_percent</th>\n",
       "      <th>composition_glass_percent</th>\n",
       "      <th>composition_metal_percent</th>\n",
       "      <th>composition_other_percent</th>\n",
       "      <th>composition_paper_cardboard_percent</th>\n",
       "      <th>composition_plastic_percent</th>\n",
       "      <th>composition_rubber_leather_percent</th>\n",
       "      <th>composition_wood_percent</th>\n",
       "      <th>composition_yard_garden_green_waste_percent</th>\n",
       "      <th>population_population_number_of_people</th>\n",
       "      <th>special_waste_agricultural_waste_tons_year</th>\n",
       "      <th>special_waste_construction_and_demolition_waste_tons_year</th>\n",
       "      <th>special_waste_e_waste_tons_year</th>\n",
       "      <th>special_waste_hazardous_waste_tons_year</th>\n",
       "      <th>special_waste_industrial_waste_tons_year</th>\n",
       "      <th>special_waste_medical_waste_tons_year</th>\n",
       "      <th>Temprature Change</th>\n",
       "    </tr>\n",
       "  </thead>\n",
       "  <tbody>\n",
       "    <tr>\n",
       "      <th>0</th>\n",
       "      <td>SAS</td>\n",
       "      <td>Afghanistan</td>\n",
       "      <td>2057.062256</td>\n",
       "      <td>NaN</td>\n",
       "      <td>NaN</td>\n",
       "      <td>NaN</td>\n",
       "      <td>NaN</td>\n",
       "      <td>NaN</td>\n",
       "      <td>NaN</td>\n",
       "      <td>NaN</td>\n",
       "      <td>NaN</td>\n",
       "      <td>NaN</td>\n",
       "      <td>34656032</td>\n",
       "      <td>6802511.0</td>\n",
       "      <td>NaN</td>\n",
       "      <td>20000.0</td>\n",
       "      <td>NaN</td>\n",
       "      <td>NaN</td>\n",
       "      <td>9855.0</td>\n",
       "      <td>0.435824</td>\n",
       "    </tr>\n",
       "    <tr>\n",
       "      <th>1</th>\n",
       "      <td>ECS</td>\n",
       "      <td>Albania</td>\n",
       "      <td>13724.058590</td>\n",
       "      <td>51.4</td>\n",
       "      <td>4.5</td>\n",
       "      <td>4.8</td>\n",
       "      <td>15.21</td>\n",
       "      <td>9.9</td>\n",
       "      <td>9.6</td>\n",
       "      <td>NaN</td>\n",
       "      <td>4.6</td>\n",
       "      <td>NaN</td>\n",
       "      <td>2854191</td>\n",
       "      <td>NaN</td>\n",
       "      <td>203009.0</td>\n",
       "      <td>20000.0</td>\n",
       "      <td>5714.82</td>\n",
       "      <td>270269.0</td>\n",
       "      <td>114.3</td>\n",
       "      <td>0.777882</td>\n",
       "    </tr>\n",
       "    <tr>\n",
       "      <th>2</th>\n",
       "      <td>MEA</td>\n",
       "      <td>Algeria</td>\n",
       "      <td>11826.165040</td>\n",
       "      <td>54.4</td>\n",
       "      <td>1.2</td>\n",
       "      <td>2.8</td>\n",
       "      <td>0.80</td>\n",
       "      <td>9.8</td>\n",
       "      <td>16.9</td>\n",
       "      <td>12.6</td>\n",
       "      <td>1.5</td>\n",
       "      <td>NaN</td>\n",
       "      <td>40606052</td>\n",
       "      <td>NaN</td>\n",
       "      <td>11000000.0</td>\n",
       "      <td>252000.0</td>\n",
       "      <td>330000.00</td>\n",
       "      <td>2547000.0</td>\n",
       "      <td>30000.0</td>\n",
       "      <td>0.493735</td>\n",
       "    </tr>\n",
       "    <tr>\n",
       "      <th>3</th>\n",
       "      <td>EAS</td>\n",
       "      <td>American Samoa</td>\n",
       "      <td>11113.442380</td>\n",
       "      <td>19.7</td>\n",
       "      <td>3.4</td>\n",
       "      <td>7.9</td>\n",
       "      <td>25.60</td>\n",
       "      <td>26.4</td>\n",
       "      <td>12.8</td>\n",
       "      <td>4.2</td>\n",
       "      <td>NaN</td>\n",
       "      <td>NaN</td>\n",
       "      <td>55599</td>\n",
       "      <td>NaN</td>\n",
       "      <td>NaN</td>\n",
       "      <td>NaN</td>\n",
       "      <td>NaN</td>\n",
       "      <td>NaN</td>\n",
       "      <td>NaN</td>\n",
       "      <td>0.741878</td>\n",
       "    </tr>\n",
       "    <tr>\n",
       "      <th>4</th>\n",
       "      <td>ECS</td>\n",
       "      <td>Andorra</td>\n",
       "      <td>43711.800780</td>\n",
       "      <td>31.2</td>\n",
       "      <td>8.2</td>\n",
       "      <td>2.6</td>\n",
       "      <td>11.60</td>\n",
       "      <td>35.1</td>\n",
       "      <td>11.3</td>\n",
       "      <td>NaN</td>\n",
       "      <td>NaN</td>\n",
       "      <td>NaN</td>\n",
       "      <td>82431</td>\n",
       "      <td>NaN</td>\n",
       "      <td>NaN</td>\n",
       "      <td>NaN</td>\n",
       "      <td>1788.00</td>\n",
       "      <td>NaN</td>\n",
       "      <td>NaN</td>\n",
       "      <td>0.494500</td>\n",
       "    </tr>\n",
       "  </tbody>\n",
       "</table>\n",
       "</div>"
      ],
      "text/plain": [
       "  region_id    country_name           gdp  \\\n",
       "0       SAS     Afghanistan   2057.062256   \n",
       "1       ECS         Albania  13724.058590   \n",
       "2       MEA         Algeria  11826.165040   \n",
       "3       EAS  American Samoa  11113.442380   \n",
       "4       ECS         Andorra  43711.800780   \n",
       "\n",
       "   composition_food_organic_waste_percent  composition_glass_percent  \\\n",
       "0                                     NaN                        NaN   \n",
       "1                                    51.4                        4.5   \n",
       "2                                    54.4                        1.2   \n",
       "3                                    19.7                        3.4   \n",
       "4                                    31.2                        8.2   \n",
       "\n",
       "   composition_metal_percent  composition_other_percent  \\\n",
       "0                        NaN                        NaN   \n",
       "1                        4.8                      15.21   \n",
       "2                        2.8                       0.80   \n",
       "3                        7.9                      25.60   \n",
       "4                        2.6                      11.60   \n",
       "\n",
       "   composition_paper_cardboard_percent  composition_plastic_percent  \\\n",
       "0                                  NaN                          NaN   \n",
       "1                                  9.9                          9.6   \n",
       "2                                  9.8                         16.9   \n",
       "3                                 26.4                         12.8   \n",
       "4                                 35.1                         11.3   \n",
       "\n",
       "   composition_rubber_leather_percent  composition_wood_percent  \\\n",
       "0                                 NaN                       NaN   \n",
       "1                                 NaN                       4.6   \n",
       "2                                12.6                       1.5   \n",
       "3                                 4.2                       NaN   \n",
       "4                                 NaN                       NaN   \n",
       "\n",
       "   composition_yard_garden_green_waste_percent  \\\n",
       "0                                          NaN   \n",
       "1                                          NaN   \n",
       "2                                          NaN   \n",
       "3                                          NaN   \n",
       "4                                          NaN   \n",
       "\n",
       "   population_population_number_of_people  \\\n",
       "0                                34656032   \n",
       "1                                 2854191   \n",
       "2                                40606052   \n",
       "3                                   55599   \n",
       "4                                   82431   \n",
       "\n",
       "   special_waste_agricultural_waste_tons_year  \\\n",
       "0                                   6802511.0   \n",
       "1                                         NaN   \n",
       "2                                         NaN   \n",
       "3                                         NaN   \n",
       "4                                         NaN   \n",
       "\n",
       "   special_waste_construction_and_demolition_waste_tons_year  \\\n",
       "0                                                NaN           \n",
       "1                                           203009.0           \n",
       "2                                         11000000.0           \n",
       "3                                                NaN           \n",
       "4                                                NaN           \n",
       "\n",
       "   special_waste_e_waste_tons_year  special_waste_hazardous_waste_tons_year  \\\n",
       "0                          20000.0                                      NaN   \n",
       "1                          20000.0                                  5714.82   \n",
       "2                         252000.0                                330000.00   \n",
       "3                              NaN                                      NaN   \n",
       "4                              NaN                                  1788.00   \n",
       "\n",
       "   special_waste_industrial_waste_tons_year  \\\n",
       "0                                       NaN   \n",
       "1                                  270269.0   \n",
       "2                                 2547000.0   \n",
       "3                                       NaN   \n",
       "4                                       NaN   \n",
       "\n",
       "   special_waste_medical_waste_tons_year  Temprature Change  \n",
       "0                                 9855.0           0.435824  \n",
       "1                                  114.3           0.777882  \n",
       "2                                30000.0           0.493735  \n",
       "3                                    NaN           0.741878  \n",
       "4                                    NaN           0.494500  "
      ]
     },
     "execution_count": 4,
     "metadata": {},
     "output_type": "execute_result"
    }
   ],
   "source": [
    "df.head()"
   ]
  },
  {
   "cell_type": "code",
   "execution_count": 5,
   "metadata": {},
   "outputs": [
    {
     "data": {
      "text/plain": [
       "(217, 20)"
      ]
     },
     "execution_count": 5,
     "metadata": {},
     "output_type": "execute_result"
    }
   ],
   "source": [
    "df.shape"
   ]
  },
  {
   "cell_type": "code",
   "execution_count": 6,
   "metadata": {},
   "outputs": [
    {
     "data": {
      "text/plain": [
       "region_id                                                      0\n",
       "country_name                                                   1\n",
       "gdp                                                            1\n",
       "composition_food_organic_waste_percent                        41\n",
       "composition_glass_percent                                     46\n",
       "composition_metal_percent                                     47\n",
       "composition_other_percent                                     42\n",
       "composition_paper_cardboard_percent                           41\n",
       "composition_plastic_percent                                   42\n",
       "composition_rubber_leather_percent                           164\n",
       "composition_wood_percent                                     153\n",
       "composition_yard_garden_green_waste_percent                  179\n",
       "population_population_number_of_people                         0\n",
       "special_waste_agricultural_waste_tons_year                   164\n",
       "special_waste_construction_and_demolition_waste_tons_year    143\n",
       "special_waste_e_waste_tons_year                               35\n",
       "special_waste_hazardous_waste_tons_year                       99\n",
       "special_waste_industrial_waste_tons_year                     177\n",
       "special_waste_medical_waste_tons_year                        112\n",
       "Temprature Change                                             38\n",
       "dtype: int64"
      ]
     },
     "execution_count": 6,
     "metadata": {},
     "output_type": "execute_result"
    }
   ],
   "source": [
    "df.isna().sum()"
   ]
  },
  {
   "cell_type": "code",
   "execution_count": 7,
   "metadata": {},
   "outputs": [],
   "source": [
    "df['composition_food_organic_waste_percent']=df['composition_food_organic_waste_percent'].fillna(df['composition_food_organic_waste_percent'].mean())"
   ]
  },
  {
   "cell_type": "code",
   "execution_count": 8,
   "metadata": {},
   "outputs": [],
   "source": [
    "df['composition_glass_percent'] = df['composition_glass_percent'].fillna(df['composition_glass_percent'].mean())\n",
    "df['composition_metal_percent'] = df['composition_metal_percent'].fillna(df['composition_metal_percent'].mean())\n",
    "df['composition_other_percent'] = df['composition_other_percent'].fillna(df['composition_other_percent'].mean())\n",
    "df['composition_paper_cardboard_percent'] = df['composition_paper_cardboard_percent'].fillna(df['composition_paper_cardboard_percent'].mean())\n",
    "df['composition_plastic_percent'] = df['composition_plastic_percent'].fillna(df['composition_plastic_percent'].mean())\n",
    "df['composition_rubber_leather_percent'] = df['composition_rubber_leather_percent'].fillna(df['composition_rubber_leather_percent'].mean())\n",
    "df['composition_wood_percent'] = df['composition_wood_percent'].fillna(df['composition_wood_percent'].mean())\n",
    "df['composition_yard_garden_green_waste_percent'] = df['composition_yard_garden_green_waste_percent'].fillna(df['composition_yard_garden_green_waste_percent'].mean())\n",
    "df['population_population_number_of_people'] = df['population_population_number_of_people'].fillna(df['population_population_number_of_people'].mean())\n",
    "df['special_waste_agricultural_waste_tons_year'] = df['special_waste_agricultural_waste_tons_year'].fillna(df['special_waste_agricultural_waste_tons_year'].mean())\n",
    "df['special_waste_construction_and_demolition_waste_tons_year'] = df['special_waste_construction_and_demolition_waste_tons_year'].fillna(df['special_waste_construction_and_demolition_waste_tons_year'].mean())\n",
    "df['special_waste_e_waste_tons_year'] = df['special_waste_e_waste_tons_year'].fillna(df['special_waste_e_waste_tons_year'].mean())\n",
    "df['special_waste_hazardous_waste_tons_year'] = df['special_waste_hazardous_waste_tons_year'].fillna(df['special_waste_hazardous_waste_tons_year'].mean())\n",
    "df['special_waste_industrial_waste_tons_year'] = df['special_waste_industrial_waste_tons_year'].fillna(df['special_waste_industrial_waste_tons_year'].mean())\n",
    "df['special_waste_medical_waste_tons_year'] = df['special_waste_medical_waste_tons_year'].fillna(df['special_waste_medical_waste_tons_year'].mean())\n",
    "df['Temprature Change'] = df['Temprature Change'].fillna(df['Temprature Change'].mean())"
   ]
  },
  {
   "cell_type": "code",
   "execution_count": 9,
   "metadata": {},
   "outputs": [
    {
     "data": {
      "text/plain": [
       "region_id                                                    0\n",
       "country_name                                                 1\n",
       "gdp                                                          1\n",
       "composition_food_organic_waste_percent                       0\n",
       "composition_glass_percent                                    0\n",
       "composition_metal_percent                                    0\n",
       "composition_other_percent                                    0\n",
       "composition_paper_cardboard_percent                          0\n",
       "composition_plastic_percent                                  0\n",
       "composition_rubber_leather_percent                           0\n",
       "composition_wood_percent                                     0\n",
       "composition_yard_garden_green_waste_percent                  0\n",
       "population_population_number_of_people                       0\n",
       "special_waste_agricultural_waste_tons_year                   0\n",
       "special_waste_construction_and_demolition_waste_tons_year    0\n",
       "special_waste_e_waste_tons_year                              0\n",
       "special_waste_hazardous_waste_tons_year                      0\n",
       "special_waste_industrial_waste_tons_year                     0\n",
       "special_waste_medical_waste_tons_year                        0\n",
       "Temprature Change                                            0\n",
       "dtype: int64"
      ]
     },
     "execution_count": 9,
     "metadata": {},
     "output_type": "execute_result"
    }
   ],
   "source": [
    "df.isna().sum()"
   ]
  },
  {
   "cell_type": "code",
   "execution_count": 10,
   "metadata": {},
   "outputs": [],
   "source": [
    "df['country_name'] = df['country_name'].fillna('Unknown')"
   ]
  },
  {
   "cell_type": "code",
   "execution_count": 11,
   "metadata": {},
   "outputs": [],
   "source": [
    "df['gdp'] = df['gdp'].fillna(df['gdp'].mean())"
   ]
  },
  {
   "cell_type": "code",
   "execution_count": 12,
   "metadata": {},
   "outputs": [],
   "source": [
    "df['country_name']=df['country_name'].astype('category')\n",
    "df['country_name']=df['country_name'].cat.codes\n",
    "\n",
    "df['region_id']=df['region_id'].astype('category')\n",
    "df['region_id']=df['region_id'].cat.codes"
   ]
  },
  {
   "cell_type": "code",
   "execution_count": 13,
   "metadata": {},
   "outputs": [],
   "source": [
    "columns_to_convert = [\n",
    "    'composition_food_organic_waste_percent',\n",
    "    'composition_glass_percent',\n",
    "    'composition_metal_percent',\n",
    "    'composition_other_percent',\n",
    "    'composition_paper_cardboard_percent',\n",
    "    'composition_plastic_percent',\n",
    "    'composition_rubber_leather_percent',\n",
    "    'composition_wood_percent',\n",
    "    'composition_yard_garden_green_waste_percent',\n",
    "    'special_waste_agricultural_waste_tons_year',\n",
    "    'special_waste_construction_and_demolition_waste_tons_year',\n",
    "    'special_waste_e_waste_tons_year',\n",
    "    'special_waste_hazardous_waste_tons_year',\n",
    "    'special_waste_industrial_waste_tons_year',\n",
    "    'special_waste_medical_waste_tons_year',\n",
    "    'Temprature Change',\n",
    "    'gdp'\n",
    "]\n",
    "\n",
    "for column in columns_to_convert:\n",
    "    df[column] = df[column].astype('category')\n",
    "    df[column] = df[column].cat.codes"
   ]
  },
  {
   "cell_type": "code",
   "execution_count": 14,
   "metadata": {},
   "outputs": [
    {
     "data": {
      "text/plain": [
       "Index(['region_id', 'country_name', 'gdp',\n",
       "       'composition_food_organic_waste_percent', 'composition_glass_percent',\n",
       "       'composition_metal_percent', 'composition_other_percent',\n",
       "       'composition_paper_cardboard_percent', 'composition_plastic_percent',\n",
       "       'composition_rubber_leather_percent', 'composition_wood_percent',\n",
       "       'composition_yard_garden_green_waste_percent',\n",
       "       'population_population_number_of_people',\n",
       "       'special_waste_agricultural_waste_tons_year',\n",
       "       'special_waste_construction_and_demolition_waste_tons_year',\n",
       "       'special_waste_e_waste_tons_year',\n",
       "       'special_waste_hazardous_waste_tons_year',\n",
       "       'special_waste_industrial_waste_tons_year',\n",
       "       'special_waste_medical_waste_tons_year', 'Temprature Change'],\n",
       "      dtype='object')"
      ]
     },
     "execution_count": 14,
     "metadata": {},
     "output_type": "execute_result"
    }
   ],
   "source": [
    "df.columns"
   ]
  },
  {
   "cell_type": "code",
   "execution_count": 15,
   "metadata": {},
   "outputs": [
    {
     "name": "stdout",
     "output_type": "stream",
     "text": [
      "Linear Regression - Mean Squared Error: 2503.1539730610657, R-squared: 0.33631857686117006\n",
      "Random Forest - Mean Squared Error: 1352.3095781609195, R-squared: 0.6414512431048864\n",
      "Decision Tree - Mean Squared Error: 2502.7471264367814, R-squared: 0.33642644739151295\n",
      "Gradient Boosting - Mean Squared Error: 1558.9851967891823, R-squared: 0.5866536676558761\n",
      "XGBRegressor - Mean Squared Error: 1433.1971435546875, R-squared: 0.6200048762053807\n"
     ]
    }
   ],
   "source": [
    "numerical_columns = [\n",
    "    'composition_food_organic_waste_percent',\n",
    "    'composition_glass_percent',\n",
    "     'composition_other_percent',\n",
    "    'composition_paper_cardboard_percent', 'composition_plastic_percent',\n",
    "    'composition_wood_percent',\n",
    "    'population_population_number_of_people',\n",
    "    'special_waste_construction_and_demolition_waste_tons_year',\n",
    "    'special_waste_e_waste_tons_year',\n",
    "    'special_waste_hazardous_waste_tons_year',\n",
    "    'special_waste_medical_waste_tons_year', \n",
    "]\n",
    "\n",
    "# Prepare the data\n",
    "X = df[numerical_columns]\n",
    "y = df['gdp']\n",
    "\n",
    "# Split the data into training and testing sets\n",
    "X_train, X_test, y_train, y_test = train_test_split(X, y, test_size=0.4, random_state=42)\n",
    "\n",
    "# Define the models to test\n",
    "models = {\n",
    "    'Linear Regression': LinearRegression(),\n",
    "    'Random Forest': RandomForestRegressor(random_state=42),\n",
    "    'Decision Tree': DecisionTreeRegressor(random_state=42),\n",
    "    'Gradient Boosting': GradientBoostingRegressor(random_state=42),\n",
    "    'XGBRegressor': XGBRegressor(random_state=42)\n",
    "}\n",
    "\n",
    "# Test each model\n",
    "results = {}\n",
    "for name, model in models.items():\n",
    "    model.fit(X_train, y_train)\n",
    "    y_pred = model.predict(X_test)\n",
    "    mse = mean_squared_error(y_test, y_pred)\n",
    "    r2 = r2_score(y_test, y_pred)\n",
    "    results[name] = {'Mean Squared Error': mse, 'R-squared': r2}\n",
    "\n",
    "# Print the results\n",
    "for name, metrics in results.items():\n",
    "    print(f\"{name} - Mean Squared Error: {metrics['Mean Squared Error']}, R-squared: {metrics['R-squared']}\")"
   ]
  },
  {
   "cell_type": "code",
   "execution_count": 16,
   "metadata": {},
   "outputs": [
    {
     "data": {
      "text/plain": [
       "array([0.01971562, 0.02380481, 0.02905682, 0.22442767, 0.02674646,\n",
       "       0.03326407, 0.04378461, 0.38886133, 0.12681858, 0.06276873,\n",
       "       0.02075131], dtype=float32)"
      ]
     },
     "execution_count": 16,
     "metadata": {},
     "output_type": "execute_result"
    }
   ],
   "source": [
    "model.feature_importances_"
   ]
  }
 ],
 "metadata": {
  "kernelspec": {
   "display_name": ".venv",
   "language": "python",
   "name": "python3"
  },
  "language_info": {
   "codemirror_mode": {
    "name": "ipython",
    "version": 3
   },
   "file_extension": ".py",
   "mimetype": "text/x-python",
   "name": "python",
   "nbconvert_exporter": "python",
   "pygments_lexer": "ipython3",
   "version": "3.11.9"
  }
 },
 "nbformat": 4,
 "nbformat_minor": 2
}
